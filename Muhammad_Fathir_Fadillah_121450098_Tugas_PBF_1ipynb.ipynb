{
  "nbformat": 4,
  "nbformat_minor": 0,
  "metadata": {
    "colab": {
      "provenance": [],
      "collapsed_sections": [
        "_cwrGBNMrKd3",
        "6ZLhqntqveAe"
      ]
    },
    "kernelspec": {
      "name": "python3",
      "display_name": "Python 3"
    },
    "language_info": {
      "name": "python"
    }
  },
  "cells": [
    {
      "cell_type": "markdown",
      "source": [
        "###Nomor 6"
      ],
      "metadata": {
        "id": "JyUc4drMMAp-"
      }
    },
    {
      "cell_type": "code",
      "source": [
        "pw=input('masukan pw :')\n",
        "def en(pw):\n",
        "  if len(pw)>100 or len(pw)==0:\n",
        "    print('tidak bisa lebih dari 100 atau <=0')\n",
        "  else:\n",
        "    ascii =  [str(ord(k)) for k in pw]\n",
        "    nkrip=''.join(chr((int(i)//26)+80)+chr((int(i)%26)+80)+('-' if (int(i)//26)+80 < (int(i)%26)+80 else '+') for  i in ascii)\n",
        "    print('enkirpsi pw dari :', pw, 'adalah', nkrip)\n",
        "wp=input('masukan untuk deskripsi pw :')\n",
        "def de(wp):\n",
        "  ascii_inverse = [(wp[q:q+3]) for q in range(0, len(wp), 3)]\n",
        "  dek = ''.join(chr(((ord(list(a)[0])-80)*26)+(ord(list(a)[1])-80)) for a in ascii_inverse)\n",
        "  print(\"dekripsi dari: \", wp, 'adalah', dek)"
      ],
      "metadata": {
        "colab": {
          "base_uri": "https://localhost:8080/"
        },
        "id": "eQsCpAFnL9A7",
        "outputId": "ff7087b7-b89e-42fd-ec42-8e853f840464"
      },
      "execution_count": 5,
      "outputs": [
        {
          "name": "stdout",
          "output_type": "stream",
          "text": [
            "masukan pw :anakcerdas2020\n",
            "masukan untuk deskripsi pw :Sc-TV-Sc-TS+T[-Sc-TQ+TV-T[-Sf-Sc-T\\-Sc-Qh-Qf-Qh-Qf-TS+Sg-Se-Sg-\n"
          ]
        }
      ]
    },
    {
      "cell_type": "code",
      "source": [
        "en(pw)"
      ],
      "metadata": {
        "colab": {
          "base_uri": "https://localhost:8080/"
        },
        "id": "IDaQIeRkaxm0",
        "outputId": "bfd822b4-4c00-4ea1-a613-a4c0ae4f8e31"
      },
      "execution_count": 7,
      "outputs": [
        {
          "output_type": "stream",
          "name": "stdout",
          "text": [
            "enkirpsi pw dari : anakcerdas2020 adalah Sc-TV-Sc-TS+Se-Sg-TZ-Sf-Sc-T[-Qh-Qf-Qh-Qf-\n"
          ]
        }
      ]
    },
    {
      "cell_type": "code",
      "source": [
        "de(wp)"
      ],
      "metadata": {
        "colab": {
          "base_uri": "https://localhost:8080/"
        },
        "id": "UpHBd7sDfPWA",
        "outputId": "a34dc450-0cb4-4f33-8aa3-f8ee33926584"
      },
      "execution_count": 3,
      "outputs": [
        {
          "output_type": "stream",
          "name": "stdout",
          "text": [
            "dekripsi dari:  Sc-TV-Sc-TS+T[-Sc-TQ+TV-T[-Sf-Sc-T\\-Sc-Qh-Qf-Qh-Qf-TS+Sg-Se-Sg- adalah anaksainsdata2020kece\n"
          ]
        }
      ]
    },
    {
      "cell_type": "markdown",
      "source": [
        "###Nomor 1"
      ],
      "metadata": {
        "id": "_cwrGBNMrKd3"
      }
    },
    {
      "cell_type": "markdown",
      "source": [
        "|Object | Procedural|\n",
        "|---|---|\n",
        "|produktivitas tinggi|produktivitas rendah|\n",
        "|bagus dalam pemodelan dalam kehidupan asli|kurang bagus dalam pemodelan dalam kehidupan asli|\n",
        "|keamanan tinggi|keamanan rendah|\n",
        "###Kelebihan OOP"
      ],
      "metadata": {
        "id": "YNm2ndQomoAs"
      }
    },
    {
      "cell_type": "markdown",
      "source": [
        "|Object|Procedural|\n",
        "|---|---|\n",
        "|kurang cocok bagi pemula karena relatif sulit|cocok bagi pemula karena relatif mudah|\n",
        "|kurang cocok untuk program sederhana|cocok untuk program sederhana karena tidak butuh algoritma yang rumit|\n",
        "|manajemen penyimpanan lebih bagus karena memakan sedikit penyimpanan|manajemen penyimpanan kurang bagus karena memakan lebih banyak penyimpanan|\n",
        "###Kelebihan Procedural"
      ],
      "metadata": {
        "id": "qMjzwQh5uAic"
      }
    },
    {
      "cell_type": "markdown",
      "source": [
        "###Nomor 2"
      ],
      "metadata": {
        "id": "6ZLhqntqveAe"
      }
    },
    {
      "cell_type": "markdown",
      "source": [
        "|Object|Functional|\n",
        "|---|---|\n",
        "|Tidak pararel|Pararel|\n",
        "|Kompleksitas waktu terkadang relatif lebih lama karena tidak bisa pararel(sebagian)|Kompleksitas waktu relatif lebih mangkus karena bisa pararel|\n",
        "|Variabel bersifat imutable|Variabel bersifat mutable|\n",
        "###Kelebihan Functional"
      ],
      "metadata": {
        "id": "gQdnPV3Vw1KK"
      }
    },
    {
      "cell_type": "markdown",
      "source": [
        "|Object|Functional|\n",
        "|---|---|\n",
        "|Lebih fokus dengan \"Bagaimana\" dibandingkan \"Apa\" sehingga lebih detail dalam menyelesaikan masalah|Lebih berfokus dengan hasil dibandingkan bagaimana cara mendapatkan hasil tersebut|\n",
        "|Cocok untuk algoritma yang rumit|Kurang cocok untuk algoritma yang rumit|\n",
        "|Lebih mudah dipahami|Sulit dipahami karena butuh pemahaman terhadap istilah-istilah fungsi lainnya|\n",
        "###Kelebihan Object"
      ],
      "metadata": {
        "id": "RiIj_quxz3Hk"
      }
    },
    {
      "cell_type": "markdown",
      "source": [
        "###Nomor 3"
      ],
      "metadata": {
        "id": "QcVWXEpj2iid"
      }
    },
    {
      "cell_type": "markdown",
      "source": [
        "|Procedural|Functional|\n",
        "|---|---|\n",
        "|Variabel bersifat mutable|Variabel bersifat imutable|\n",
        "|Penulisan iterasi lebih banyak kode|Penulisan iterasi butuh lebih sedikit baris kode|\n",
        "|Karena memanfaatkan fungsi yang sudah ada maka kode lebih sedikit|Kode lebih banyak karena tidak pakai fungsi|\n",
        "###Kelebihan Functional"
      ],
      "metadata": {
        "id": "4ZW9_dMo2n_O"
      }
    },
    {
      "cell_type": "markdown",
      "source": [
        "|Procedural|Functional|\n",
        "|---|---|\n",
        "|Pengujian dan penyelesaian bug lebih mudah|Pengujian dan penyelesaian bug relatif lebih sulit|\n",
        "|Lebih mudah dipahami karena tidak perlu mengetahui nama dan informasi mengenai fungsi-fungsi seperti pada FP|Diperlukan pehaman terhadap fungsi-fungsi yang ada dalam membuat program|\n",
        "|Program lebih sederhana karena tidak memerlukan fungsi yang relatif rumit|Program lebih kompleks karena dibutuhkan beberapa fungsi yang relatif rumit|\n",
        "###Kelebihan Procedural"
      ],
      "metadata": {
        "id": "Dk3450-W6YQb"
      }
    },
    {
      "cell_type": "markdown",
      "source": [
        "###Nomor 4"
      ],
      "metadata": {
        "id": "FMw9BLsrLyLB"
      }
    },
    {
      "cell_type": "markdown",
      "source": [
        "**Pure functional programming language adalah bahasa pemrograman yang memperlakukan seluruh perhitungan dan operasi sebagai fungsi matematika**"
      ],
      "metadata": {
        "id": "QgYDATcxMeFV"
      }
    },
    {
      "cell_type": "markdown",
      "source": [
        "###Nomor 5"
      ],
      "metadata": {
        "id": "nxiuhQ2HNsGR"
      }
    },
    {
      "cell_type": "markdown",
      "source": [
        "**Bahasa pemrograman fungsional murni diantaranya adalah :**\n",
        "\n",
        "\n",
        "1.   Haskell\n",
        "2.   Lisp\n",
        "3.   Scala\n",
        "\n"
      ],
      "metadata": {
        "id": "lXIhLoCTNvth"
      }
    }
  ]
}